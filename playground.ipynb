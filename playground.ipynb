{
 "cells": [
  {
   "cell_type": "code",
   "execution_count": 1,
   "metadata": {},
   "outputs": [
    {
     "name": "stderr",
     "output_type": "stream",
     "text": [
      "/Users/Srikanth/Projects/adu-ai-agent/.venv/lib/python3.12/site-packages/tqdm/auto.py:21: TqdmWarning: IProgress not found. Please update jupyter and ipywidgets. See https://ipywidgets.readthedocs.io/en/stable/user_install.html\n",
      "  from .autonotebook import tqdm as notebook_tqdm\n"
     ]
    },
    {
     "name": "stdout",
     "output_type": "stream",
     "text": [
      "Question: What is the color of the sky?\n",
      "Predicted Answer: Blue on a sunny day\n"
     ]
    }
   ],
   "source": [
    "# Establish a connection with an LLM using Groq API key and the `dspy` library \n",
    "\n",
    "# pip install dspy-ai python-dotenv\n",
    "import os\n",
    "import dspy\n",
    "from dotenv import load_dotenv\n",
    "\n",
    "# Load environment variables from .env file\n",
    "load_dotenv()\n",
    "\n",
    "# Configure DSPy to use Groq with Llama3.3\n",
    "groq_api_key = os.getenv(\"GROQ_API_KEY\")\n",
    "if not groq_api_key:\n",
    "    raise ValueError(\"GROQ_API_KEY not found in environment variables\")\n",
    "\n",
    "# Set up the Groq LLM with Llama3.3\n",
    "llm = dspy.LM(\n",
    "    model=\"groq/llama-3.3-70b-versatile\",\n",
    "    api_key=groq_api_key,  # Using Llama3.3 70B model\n",
    ")\n",
    "\n",
    "# Set the LLM as the default for DSPy\n",
    "dspy.settings.configure(lm=llm)\n",
    "\n",
    "\n",
    "# Define a simple DSPy Signature for question answering\n",
    "class BasicQA(dspy.Signature):\n",
    "    \"\"\"Answer questions with short factoid answers.\"\"\"\n",
    "    question = dspy.InputField()\n",
    "    answer = dspy.OutputField(desc=\"often between 5 and 7 words\")\n",
    "\n",
    "# Pass the signature to the ChainOfThought module\n",
    "generate_answer = dspy.ChainOfThought(BasicQA)\n",
    "\n",
    "# Call the predictor on a particular input\n",
    "question = \"What is the color of the sky?\"\n",
    "pred = generate_answer(question=question)\n",
    "\n",
    "print(f\"Question: {question}\")\n",
    "print(f\"Predicted Answer: {pred.answer}\")"
   ]
  }
 ],
 "metadata": {
  "kernelspec": {
   "display_name": ".venv",
   "language": "python",
   "name": "python3"
  },
  "language_info": {
   "codemirror_mode": {
    "name": "ipython",
    "version": 3
   },
   "file_extension": ".py",
   "mimetype": "text/x-python",
   "name": "python",
   "nbconvert_exporter": "python",
   "pygments_lexer": "ipython3",
   "version": "3.12.9"
  }
 },
 "nbformat": 4,
 "nbformat_minor": 2
}
